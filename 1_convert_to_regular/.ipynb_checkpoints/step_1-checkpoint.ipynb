{
 "cells": [
  {
   "cell_type": "code",
   "execution_count": 71,
   "metadata": {},
   "outputs": [],
   "source": [
    "import numpy as np\n",
    "import pandas as pd\n",
    "import matplotlib.pyplot as plt\n",
    "import re\n",
    "%matplotlib inline"
   ]
  },
  {
   "cell_type": "code",
   "execution_count": 79,
   "metadata": {},
   "outputs": [],
   "source": [
    "plt.rc('text', usetex=True)"
   ]
  },
  {
   "cell_type": "code",
   "execution_count": 2,
   "metadata": {},
   "outputs": [],
   "source": [
    "df = pd.read_csv('../raw/techstate_mssa2_new.csv')"
   ]
  },
  {
   "cell_type": "code",
   "execution_count": 3,
   "metadata": {},
   "outputs": [
    {
     "data": {
      "text/html": [
       "<div>\n",
       "<style scoped>\n",
       "    .dataframe tbody tr th:only-of-type {\n",
       "        vertical-align: middle;\n",
       "    }\n",
       "\n",
       "    .dataframe tbody tr th {\n",
       "        vertical-align: top;\n",
       "    }\n",
       "\n",
       "    .dataframe thead th {\n",
       "        text-align: right;\n",
       "    }\n",
       "</style>\n",
       "<table border=\"1\" class=\"dataframe\">\n",
       "  <thead>\n",
       "    <tr style=\"text-align: right;\">\n",
       "      <th></th>\n",
       "      <th>Unnamed: 0</th>\n",
       "      <th>reg_time</th>\n",
       "      <th>cmd</th>\n",
       "      <th>fpo_work_mode</th>\n",
       "      <th>state0</th>\n",
       "      <th>state1</th>\n",
       "      <th>state2</th>\n",
       "      <th>state3</th>\n",
       "      <th>state4</th>\n",
       "      <th>state5</th>\n",
       "      <th>...</th>\n",
       "      <th>is_otkaz</th>\n",
       "      <th>is_zavisim</th>\n",
       "      <th>is_vkl</th>\n",
       "      <th>is_vkl2</th>\n",
       "      <th>is_trig</th>\n",
       "      <th>is_trba</th>\n",
       "      <th>is_vedushciy</th>\n",
       "      <th>is_mu</th>\n",
       "      <th>is_blokirovka</th>\n",
       "      <th>element_name</th>\n",
       "    </tr>\n",
       "  </thead>\n",
       "  <tbody>\n",
       "    <tr>\n",
       "      <th>0</th>\n",
       "      <td>39</td>\n",
       "      <td>2020-10-20 12:42:31.559564</td>\n",
       "      <td>0</td>\n",
       "      <td>0</td>\n",
       "      <td>1</td>\n",
       "      <td>144</td>\n",
       "      <td>36</td>\n",
       "      <td>13</td>\n",
       "      <td>0</td>\n",
       "      <td>0</td>\n",
       "      <td>...</td>\n",
       "      <td>1</td>\n",
       "      <td>1</td>\n",
       "      <td>1</td>\n",
       "      <td>0</td>\n",
       "      <td>0</td>\n",
       "      <td>1</td>\n",
       "      <td>0</td>\n",
       "      <td>0</td>\n",
       "      <td>0</td>\n",
       "      <td>/ИЗД/ДР/ДРУ/ДРУ1/ДБ-101_2/ДЯ-101/7ДЯ-101 ФПО</td>\n",
       "    </tr>\n",
       "    <tr>\n",
       "      <th>1</th>\n",
       "      <td>40</td>\n",
       "      <td>2020-10-20 12:42:31.559564</td>\n",
       "      <td>0</td>\n",
       "      <td>0</td>\n",
       "      <td>1</td>\n",
       "      <td>144</td>\n",
       "      <td>36</td>\n",
       "      <td>13</td>\n",
       "      <td>0</td>\n",
       "      <td>0</td>\n",
       "      <td>...</td>\n",
       "      <td>1</td>\n",
       "      <td>1</td>\n",
       "      <td>1</td>\n",
       "      <td>0</td>\n",
       "      <td>0</td>\n",
       "      <td>1</td>\n",
       "      <td>0</td>\n",
       "      <td>0</td>\n",
       "      <td>0</td>\n",
       "      <td>/ИЗД/ДР/ДРУ/ДРУ1/ДБ-101_1/ДЯ-101/7ДЯ-101 ФПО</td>\n",
       "    </tr>\n",
       "    <tr>\n",
       "      <th>2</th>\n",
       "      <td>56</td>\n",
       "      <td>2020-10-20 12:42:31.589615</td>\n",
       "      <td>1</td>\n",
       "      <td>0</td>\n",
       "      <td>1</td>\n",
       "      <td>0</td>\n",
       "      <td>160</td>\n",
       "      <td>0</td>\n",
       "      <td>16</td>\n",
       "      <td>0</td>\n",
       "      <td>...</td>\n",
       "      <td>1</td>\n",
       "      <td>1</td>\n",
       "      <td>1</td>\n",
       "      <td>0</td>\n",
       "      <td>0</td>\n",
       "      <td>0</td>\n",
       "      <td>0</td>\n",
       "      <td>0</td>\n",
       "      <td>0</td>\n",
       "      <td>/ИЗД/ДР/ДРУ/МБ-232_1/МЯ-232/ФПОЯ_8МЯ-232</td>\n",
       "    </tr>\n",
       "    <tr>\n",
       "      <th>3</th>\n",
       "      <td>57</td>\n",
       "      <td>2020-10-20 12:42:31.589615</td>\n",
       "      <td>1</td>\n",
       "      <td>0</td>\n",
       "      <td>1</td>\n",
       "      <td>0</td>\n",
       "      <td>0</td>\n",
       "      <td>0</td>\n",
       "      <td>16</td>\n",
       "      <td>0</td>\n",
       "      <td>...</td>\n",
       "      <td>0</td>\n",
       "      <td>0</td>\n",
       "      <td>1</td>\n",
       "      <td>0</td>\n",
       "      <td>0</td>\n",
       "      <td>0</td>\n",
       "      <td>0</td>\n",
       "      <td>0</td>\n",
       "      <td>0</td>\n",
       "      <td>/ИЗД/ДР/ДРУ/МБ-232_1/МЯ-233/Мод ППО D1</td>\n",
       "    </tr>\n",
       "    <tr>\n",
       "      <th>4</th>\n",
       "      <td>58</td>\n",
       "      <td>2020-10-20 12:42:31.589615</td>\n",
       "      <td>1</td>\n",
       "      <td>0</td>\n",
       "      <td>0</td>\n",
       "      <td>0</td>\n",
       "      <td>0</td>\n",
       "      <td>0</td>\n",
       "      <td>0</td>\n",
       "      <td>0</td>\n",
       "      <td>...</td>\n",
       "      <td>0</td>\n",
       "      <td>0</td>\n",
       "      <td>1</td>\n",
       "      <td>0</td>\n",
       "      <td>0</td>\n",
       "      <td>0</td>\n",
       "      <td>0</td>\n",
       "      <td>0</td>\n",
       "      <td>0</td>\n",
       "      <td>/ИЗД/ДР/ДРУ/МБ-232_1/МЯ-232/Модуль ФПО3</td>\n",
       "    </tr>\n",
       "  </tbody>\n",
       "</table>\n",
       "<p>5 rows × 33 columns</p>\n",
       "</div>"
      ],
      "text/plain": [
       "   Unnamed: 0                    reg_time  cmd  fpo_work_mode  state0  state1  \\\n",
       "0          39  2020-10-20 12:42:31.559564    0              0       1     144   \n",
       "1          40  2020-10-20 12:42:31.559564    0              0       1     144   \n",
       "2          56  2020-10-20 12:42:31.589615    1              0       1       0   \n",
       "3          57  2020-10-20 12:42:31.589615    1              0       1       0   \n",
       "4          58  2020-10-20 12:42:31.589615    1              0       0       0   \n",
       "\n",
       "   state2  state3  state4  state5  ...  is_otkaz  is_zavisim  is_vkl  is_vkl2  \\\n",
       "0      36      13       0       0  ...         1           1       1        0   \n",
       "1      36      13       0       0  ...         1           1       1        0   \n",
       "2     160       0      16       0  ...         1           1       1        0   \n",
       "3       0       0      16       0  ...         0           0       1        0   \n",
       "4       0       0       0       0  ...         0           0       1        0   \n",
       "\n",
       "   is_trig  is_trba is_vedushciy  is_mu  is_blokirovka  \\\n",
       "0        0        1            0      0              0   \n",
       "1        0        1            0      0              0   \n",
       "2        0        0            0      0              0   \n",
       "3        0        0            0      0              0   \n",
       "4        0        0            0      0              0   \n",
       "\n",
       "                                   element_name  \n",
       "0  /ИЗД/ДР/ДРУ/ДРУ1/ДБ-101_2/ДЯ-101/7ДЯ-101 ФПО  \n",
       "1  /ИЗД/ДР/ДРУ/ДРУ1/ДБ-101_1/ДЯ-101/7ДЯ-101 ФПО  \n",
       "2      /ИЗД/ДР/ДРУ/МБ-232_1/МЯ-232/ФПОЯ_8МЯ-232  \n",
       "3        /ИЗД/ДР/ДРУ/МБ-232_1/МЯ-233/Мод ППО D1  \n",
       "4       /ИЗД/ДР/ДРУ/МБ-232_1/МЯ-232/Модуль ФПО3  \n",
       "\n",
       "[5 rows x 33 columns]"
      ]
     },
     "execution_count": 3,
     "metadata": {},
     "output_type": "execute_result"
    }
   ],
   "source": [
    "df.head(5)"
   ]
  },
  {
   "cell_type": "code",
   "execution_count": 4,
   "metadata": {},
   "outputs": [
    {
     "name": "stdout",
     "output_type": "stream",
     "text": [
      "<class 'pandas.core.frame.DataFrame'>\n",
      "RangeIndex: 3966354 entries, 0 to 3966353\n",
      "Data columns (total 33 columns):\n",
      " #   Column         Dtype \n",
      "---  ------         ----- \n",
      " 0   Unnamed: 0     int64 \n",
      " 1   reg_time       object\n",
      " 2   cmd            int64 \n",
      " 3   fpo_work_mode  int64 \n",
      " 4   state0         int64 \n",
      " 5   state1         int64 \n",
      " 6   state2         int64 \n",
      " 7   state3         int64 \n",
      " 8   state4         int64 \n",
      " 9   state5         int64 \n",
      " 10  data0          int64 \n",
      " 11  data1          int64 \n",
      " 12  data2          int64 \n",
      " 13  data3          int64 \n",
      " 14  data4          int64 \n",
      " 15  data5          int64 \n",
      " 16  regimes        object\n",
      " 17  is_rab         int64 \n",
      " 18  is_rez         int64 \n",
      " 19  is_rem         int64 \n",
      " 20  is_reg         int64 \n",
      " 21  is_ispr        int64 \n",
      " 22  is_neispr      int64 \n",
      " 23  is_otkaz       int64 \n",
      " 24  is_zavisim     int64 \n",
      " 25  is_vkl         int64 \n",
      " 26  is_vkl2        int64 \n",
      " 27  is_trig        int64 \n",
      " 28  is_trba        int64 \n",
      " 29  is_vedushciy   int64 \n",
      " 30  is_mu          int64 \n",
      " 31  is_blokirovka  int64 \n",
      " 32  element_name   object\n",
      "dtypes: int64(30), object(3)\n",
      "memory usage: 998.6+ MB\n"
     ]
    }
   ],
   "source": [
    "df.info()"
   ]
  },
  {
   "cell_type": "code",
   "execution_count": 5,
   "metadata": {},
   "outputs": [
    {
     "data": {
      "text/plain": [
       "0    0.000000\n",
       "1    0.000000\n",
       "2    0.030051\n",
       "3    0.030051\n",
       "4    0.030051\n",
       "Name: reg_time, dtype: float64"
      ]
     },
     "execution_count": 5,
     "metadata": {},
     "output_type": "execute_result"
    }
   ],
   "source": [
    "#convert datetime to seconds\n",
    "from datetime import datetime\n",
    "def to_total_seconds(s):\n",
    "    pos = s.find('.')\n",
    "    #startpoin is 2020-10-20 12:42:31.559564\n",
    "    if pos > 0:\n",
    "        return (datetime.fromisoformat(s+'0'*(26-len(s))) - datetime(2020,10,20, 12, 42, 31)).total_seconds() - .559564\n",
    "    else:\n",
    "        return (datetime.fromisoformat(s+'.'+'0'*6) - datetime(2020,10,20, 12, 42, 31)).total_seconds() - .559564\n",
    "\n",
    "df['reg_time'] = df['reg_time'].apply(to_total_seconds)\n",
    "df['reg_time'].head()"
   ]
  },
  {
   "cell_type": "code",
   "execution_count": 6,
   "metadata": {},
   "outputs": [
    {
     "data": {
      "text/plain": [
       "0    0\n",
       "1    1\n",
       "2    2\n",
       "3    3\n",
       "4    4\n",
       "Name: id, dtype: int64"
      ]
     },
     "execution_count": 6,
     "metadata": {},
     "output_type": "execute_result"
    }
   ],
   "source": [
    "#encode element_name by integer-valued id\n",
    "unique_names = df['element_name'].unique()\n",
    "f = open(\"element_name_ids.csv\",\"w\")\n",
    "name_to_id_dict = {}\n",
    "for tmp_id, name in enumerate(unique_names):\n",
    "    name_to_id_dict[name] = tmp_id\n",
    "    print(name, tmp_id, sep=',', file=f)\n",
    "f.close()\n",
    "id_max = len(unique_names) - 1\n",
    "df['id'] = np.asarray([name_to_id_dict[str(x)] for x in df['element_name']])\n",
    "df['id'].head()"
   ]
  },
  {
   "cell_type": "code",
   "execution_count": 7,
   "metadata": {},
   "outputs": [],
   "source": [
    "#drop all unnecessary clmns\n",
    "df.drop(columns=['element_name'],inplace=True)\n",
    "df.drop(columns=['regimes'],inplace=True)\n",
    "df.drop(columns=['Unnamed: 0'],inplace=True)"
   ]
  },
  {
   "cell_type": "code",
   "execution_count": 8,
   "metadata": {},
   "outputs": [
    {
     "name": "stdout",
     "output_type": "stream",
     "text": [
      "<class 'pandas.core.frame.DataFrame'>\n",
      "Int64Index: 8788 entries, 0 to 3965808\n",
      "Data columns (total 31 columns):\n",
      " #   Column         Non-Null Count  Dtype  \n",
      "---  ------         --------------  -----  \n",
      " 0   reg_time       8788 non-null   float64\n",
      " 1   cmd            8788 non-null   int64  \n",
      " 2   fpo_work_mode  8788 non-null   int64  \n",
      " 3   state0         8788 non-null   int64  \n",
      " 4   state1         8788 non-null   int64  \n",
      " 5   state2         8788 non-null   int64  \n",
      " 6   state3         8788 non-null   int64  \n",
      " 7   state4         8788 non-null   int64  \n",
      " 8   state5         8788 non-null   int64  \n",
      " 9   data0          8788 non-null   int64  \n",
      " 10  data1          8788 non-null   int64  \n",
      " 11  data2          8788 non-null   int64  \n",
      " 12  data3          8788 non-null   int64  \n",
      " 13  data4          8788 non-null   int64  \n",
      " 14  data5          8788 non-null   int64  \n",
      " 15  is_rab         8788 non-null   int64  \n",
      " 16  is_rez         8788 non-null   int64  \n",
      " 17  is_rem         8788 non-null   int64  \n",
      " 18  is_reg         8788 non-null   int64  \n",
      " 19  is_ispr        8788 non-null   int64  \n",
      " 20  is_neispr      8788 non-null   int64  \n",
      " 21  is_otkaz       8788 non-null   int64  \n",
      " 22  is_zavisim     8788 non-null   int64  \n",
      " 23  is_vkl         8788 non-null   int64  \n",
      " 24  is_vkl2        8788 non-null   int64  \n",
      " 25  is_trig        8788 non-null   int64  \n",
      " 26  is_trba        8788 non-null   int64  \n",
      " 27  is_vedushciy   8788 non-null   int64  \n",
      " 28  is_mu          8788 non-null   int64  \n",
      " 29  is_blokirovka  8788 non-null   int64  \n",
      " 30  id             8788 non-null   int64  \n",
      "dtypes: float64(1), int64(30)\n",
      "memory usage: 2.1 MB\n"
     ]
    }
   ],
   "source": [
    "#split dataframe by id \n",
    "df_per_id_list = [df[df['id'] == _id] for _id in range(0, len(unique_names))]\n",
    "df_per_id_list[0].info()"
   ]
  },
  {
   "cell_type": "code",
   "execution_count": 99,
   "metadata": {},
   "outputs": [
    {
     "name": "stdout",
     "output_type": "stream",
     "text": [
      "[9.86606897e-08 5.36424626e-06 9.11226189e-06 ... 8.28448000e+00\n",
      " 8.43205215e+00 9.38159105e+00]\n",
      "4299\n"
     ]
    }
   ],
   "source": [
    "#find diff for all sequential entries t_i and t_{i-1}\n",
    "diffs = []\n",
    "for _id, _df in enumerate(df_per_id_list):\n",
    "    if len(_df.index) < 1000:\n",
    "        diffs.append(np.array([0]))\n",
    "        continue\n",
    "    df_unshifted = _df.iloc[:-1].reset_index(drop=True)\n",
    "    df_shifted = _df.iloc[1:].reset_index(drop=True)\n",
    "    time_diffs = (df_shifted['reg_time'] - df_unshifted['reg_time']).values\n",
    "    cols = [col for col in _df.columns if col not in ['reg_time']]\n",
    "    features_diffs = np.sqrt((((df_shifted[cols] - df_unshifted[cols])**2).sum(axis = 1)).values)\n",
    "    features_diffs = (features_diffs-features_diffs.min())/(features_diffs.max()-features_diffs.min())\n",
    "    tmp = np.sort(np.multiply(time_diffs, features_diffs))\n",
    "    diffs.append(tmp[(tmp != 0.0) & (tmp < 10)])\n",
    "    if len(tmp[tmp != 0.0]) == 0:\n",
    "        raise NameError('Err') \n",
    "print(diffs[0])\n",
    "print(len(diffs))"
   ]
  },
  {
   "cell_type": "code",
   "execution_count": 100,
   "metadata": {},
   "outputs": [
    {
     "data": {
      "text/plain": [
       "218"
      ]
     },
     "execution_count": 100,
     "metadata": {},
     "output_type": "execute_result"
    }
   ],
   "source": [
    "# collect representative ids with at least 1000 entries\n",
    "id_list = [x for x in range(0, len(diffs)) if len(diffs[x]) > 1000]\n",
    "len(id_list)"
   ]
  },
  {
   "cell_type": "code",
   "execution_count": 124,
   "metadata": {},
   "outputs": [
    {
     "data": {
      "image/png": "[encoded data removed]",
      "text/plain": [
       "<Figure size 432x360 with 1 Axes>"
      ]
     },
     "metadata": {
      "needs_background": "light"
     },
     "output_type": "display_data"
    }
   ],
   "source": [
    "print_id = 42\n",
    "fig, ax = plt.subplots(figsize=(6, 5))\n",
    "ax.hist(diffs[id_list[print_id]], bins=1000, density=True)\n",
    "plt.xlabel('$\\Delta t$')\n",
    "plt.ylabel('$H[\\Delta t]$')\n",
    "plt.xlim(-0.001, 0.4)\n",
    "# plt.ylim(0, 0.4)\n",
    "plt.title(\"id = {}\".format(id_list[print_id]))\n",
    "plt.tight_layout()\n",
    "plt.draw()\n",
    "plt.show()\n",
    "fig.savefig(\"plots/dstr/id{}.png\".format(id_list[print_id]))"
   ]
  },
  {
   "cell_type": "code",
   "execution_count": null,
   "metadata": {},
   "outputs": [],
   "source": []
  }
 ],
 "metadata": {
  "kernelspec": {
   "display_name": "Python 3",
   "language": "python",
   "name": "python3"
  },
  "language_info": {
   "codemirror_mode": {
    "name": "ipython",
    "version": 3
   },
   "file_extension": ".py",
   "mimetype": "text/x-python",
   "name": "python",
   "nbconvert_exporter": "python",
   "pygments_lexer": "ipython3",
   "version": "3.7.6"
  }
 },
 "nbformat": 4,
 "nbformat_minor": 2
}
